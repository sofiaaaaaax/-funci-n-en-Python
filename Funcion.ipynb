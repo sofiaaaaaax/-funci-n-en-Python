{
  "nbformat": 4,
  "nbformat_minor": 0,
  "metadata": {
    "colab": {
      "provenance": [],
      "authorship_tag": "ABX9TyPZrYiPjdmCyg8GeSSrkU8D",
      "include_colab_link": true
    },
    "kernelspec": {
      "name": "python3",
      "display_name": "Python 3"
    },
    "language_info": {
      "name": "python"
    }
  },
  "cells": [
    {
      "cell_type": "markdown",
      "metadata": {
        "id": "view-in-github",
        "colab_type": "text"
      },
      "source": [
        "<a href=\"https://colab.research.google.com/github/sofiaaaaaax/-funci-n-en-Python/blob/main/Funcion.ipynb\" target=\"_parent\"><img src=\"https://colab.research.google.com/assets/colab-badge.svg\" alt=\"Open In Colab\"/></a>"
      ]
    },
    {
      "cell_type": "markdown",
      "source": [
        "7. **Crear código:** Escribe una función en Python que reciba como parámetro un número entero y devuelva True si es par y False si es impar."
      ],
      "metadata": {
        "id": "a_EGTHTr01-B"
      }
    },
    {
      "cell_type": "code",
      "execution_count": 2,
      "metadata": {
        "colab": {
          "base_uri": "https://localhost:8080/"
        },
        "id": "8Y7I98Gi0Y5m",
        "outputId": "2a4393f1-da86-41a7-eb10-089e84ca8858"
      },
      "outputs": [
        {
          "output_type": "stream",
          "name": "stdout",
          "text": [
            "Ingresa un número entero: 3\n",
            "3 es impar\n"
          ]
        }
      ],
      "source": [
        "def par(numero):\n",
        "\n",
        "    return numero % 2 == 0\n",
        "\n",
        "\n",
        "num = int(input(\"Ingresa un número entero: \"))\n",
        "\n",
        "if par(num):\n",
        "    print(f\"{num} es par\")\n",
        "else:\n",
        "    print(f\"{num} es impar\")"
      ]
    },
    {
      "cell_type": "markdown",
      "source": [
        "Este código pide un número al usuario y le dice si es par o impar.\n",
        "Para eso usa una función llamada Def par(), que revisa si el número se puede dividir entre 2 sin dejar sobrante.\n",
        "\n",
        "Si no sobra nada → es par\n",
        "\n",
        "Si sobra algo → es impar\n",
        "\n",
        "En resumen:\n",
        "El programa usa la función Def par() para comprobar si el número que escribe el usuario es par o impar y luego muestra el resultado en pantalla."
      ],
      "metadata": {
        "id": "cy9MRbKy2m84"
      }
    }
  ]
}